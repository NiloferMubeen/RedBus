{
 "cells": [
  {
   "cell_type": "code",
   "execution_count": 1,
   "metadata": {},
   "outputs": [
    {
     "data": {
      "text/html": [
       "<div>\n",
       "<style scoped>\n",
       "    .dataframe tbody tr th:only-of-type {\n",
       "        vertical-align: middle;\n",
       "    }\n",
       "\n",
       "    .dataframe tbody tr th {\n",
       "        vertical-align: top;\n",
       "    }\n",
       "\n",
       "    .dataframe thead th {\n",
       "        text-align: right;\n",
       "    }\n",
       "</style>\n",
       "<table border=\"1\" class=\"dataframe\">\n",
       "  <thead>\n",
       "    <tr style=\"text-align: right;\">\n",
       "      <th></th>\n",
       "      <th>original_equipment_manufacturer</th>\n",
       "      <th>car_model</th>\n",
       "      <th>variant_name</th>\n",
       "    </tr>\n",
       "  </thead>\n",
       "  <tbody>\n",
       "    <tr>\n",
       "      <th>0</th>\n",
       "      <td>Audi</td>\n",
       "      <td>[Audi A4, Audi A6, Audi Q7, Audi Q5]</td>\n",
       "      <td>[35 TDI Premium, 35 TDI, 35 TDI Quattro Premium]</td>\n",
       "    </tr>\n",
       "    <tr>\n",
       "      <th>1</th>\n",
       "      <td>BMW</td>\n",
       "      <td>[BMW 5 Series, BMW 3 Series GT]</td>\n",
       "      <td>[520d Sedan, 530i Sport, Luxury Line]</td>\n",
       "    </tr>\n",
       "    <tr>\n",
       "      <th>2</th>\n",
       "      <td>Chevrolet</td>\n",
       "      <td>[Chevrolet Cruze, Chevrolet Beat]</td>\n",
       "      <td>[LTZ, LT, LTZ, 1.0 LS]</td>\n",
       "    </tr>\n",
       "  </tbody>\n",
       "</table>\n",
       "</div>"
      ],
      "text/plain": [
       "  original_equipment_manufacturer                             car_model  \\\n",
       "0                            Audi  [Audi A4, Audi A6, Audi Q7, Audi Q5]   \n",
       "1                             BMW       [BMW 5 Series, BMW 3 Series GT]   \n",
       "2                       Chevrolet     [Chevrolet Cruze, Chevrolet Beat]   \n",
       "\n",
       "                                       variant_name  \n",
       "0  [35 TDI Premium, 35 TDI, 35 TDI Quattro Premium]  \n",
       "1             [520d Sedan, 530i Sport, Luxury Line]  \n",
       "2                            [LTZ, LT, LTZ, 1.0 LS]  "
      ]
     },
     "execution_count": 1,
     "metadata": {},
     "output_type": "execute_result"
    }
   ],
   "source": [
    "import pandas as pd\n",
    "\n",
    "# Sample Data\n",
    "data = {\n",
    "    \"original_equipment_manufacturer\": [\"Audi\", \"BMW\", \"Chevrolet\"],\n",
    "    \"car_model\": [\n",
    "        [\"Audi A4\", \"Audi A6\", \"Audi Q7\", \"Audi Q5\"],\n",
    "        [\"BMW 5 Series\", \"BMW 3 Series GT\"],\n",
    "        [\"Chevrolet Cruze\", \"Chevrolet Beat\"]\n",
    "    ],\n",
    "    \"variant_name\": [\n",
    "        [\"35 TDI Premium\", \"35 TDI\", \"35 TDI Quattro Premium\"],\n",
    "        [\"520d Sedan\", \"530i Sport\", \"Luxury Line\"],\n",
    "        [\"LTZ\", \"LT\", \"LTZ\", \"1.0 LS\"]\n",
    "    ]\n",
    "}\n",
    "\n",
    "# Creating DataFrame\n",
    "df = pd.DataFrame(data)\n",
    "df"
   ]
  },
  {
   "cell_type": "code",
   "execution_count": 2,
   "metadata": {},
   "outputs": [],
   "source": [
    "data = {\n",
    "    \"original_equipment_manufacturer\": [\n",
    "        \"Audi\", \"Audi\", \"Audi\", \"BMW\", \"BMW\", \"Chevrolet\", \"Chevrolet\"\n",
    "    ],\n",
    "    \"car_model\": [\n",
    "        \"Audi A4\", \"Audi A6\", \"Audi Q7\", \"BMW 5 Series\", \"BMW 3 Series GT\",\n",
    "        \"Chevrolet Cruze\", \"Chevrolet Beat\"\n",
    "    ],\n",
    "    \"variant_name\": [\n",
    "        \"35 TDI Premium\", \"35 TDI\", \"35 TDI Quattro Premium\", \"520d Sedan\",\n",
    "        \"530i Sport\", \"LTZ\", \"1.0 LS\"\n",
    "    ]\n",
    "}\n",
    "\n",
    "# Creating DataFrame\n",
    "df = pd.DataFrame(data)"
   ]
  },
  {
   "cell_type": "code",
   "execution_count": 3,
   "metadata": {},
   "outputs": [
    {
     "data": {
      "text/html": [
       "<div>\n",
       "<style scoped>\n",
       "    .dataframe tbody tr th:only-of-type {\n",
       "        vertical-align: middle;\n",
       "    }\n",
       "\n",
       "    .dataframe tbody tr th {\n",
       "        vertical-align: top;\n",
       "    }\n",
       "\n",
       "    .dataframe thead th {\n",
       "        text-align: right;\n",
       "    }\n",
       "</style>\n",
       "<table border=\"1\" class=\"dataframe\">\n",
       "  <thead>\n",
       "    <tr style=\"text-align: right;\">\n",
       "      <th></th>\n",
       "      <th>original_equipment_manufacturer</th>\n",
       "      <th>car_model</th>\n",
       "      <th>variant_name</th>\n",
       "    </tr>\n",
       "  </thead>\n",
       "  <tbody>\n",
       "    <tr>\n",
       "      <th>0</th>\n",
       "      <td>Audi</td>\n",
       "      <td>Audi A4</td>\n",
       "      <td>35 TDI Premium</td>\n",
       "    </tr>\n",
       "    <tr>\n",
       "      <th>1</th>\n",
       "      <td>Audi</td>\n",
       "      <td>Audi A6</td>\n",
       "      <td>35 TDI</td>\n",
       "    </tr>\n",
       "    <tr>\n",
       "      <th>2</th>\n",
       "      <td>Audi</td>\n",
       "      <td>Audi Q7</td>\n",
       "      <td>35 TDI Quattro Premium</td>\n",
       "    </tr>\n",
       "    <tr>\n",
       "      <th>3</th>\n",
       "      <td>BMW</td>\n",
       "      <td>BMW 5 Series</td>\n",
       "      <td>520d Sedan</td>\n",
       "    </tr>\n",
       "    <tr>\n",
       "      <th>4</th>\n",
       "      <td>BMW</td>\n",
       "      <td>BMW 3 Series GT</td>\n",
       "      <td>530i Sport</td>\n",
       "    </tr>\n",
       "    <tr>\n",
       "      <th>5</th>\n",
       "      <td>Chevrolet</td>\n",
       "      <td>Chevrolet Cruze</td>\n",
       "      <td>LTZ</td>\n",
       "    </tr>\n",
       "    <tr>\n",
       "      <th>6</th>\n",
       "      <td>Chevrolet</td>\n",
       "      <td>Chevrolet Beat</td>\n",
       "      <td>1.0 LS</td>\n",
       "    </tr>\n",
       "  </tbody>\n",
       "</table>\n",
       "</div>"
      ],
      "text/plain": [
       "  original_equipment_manufacturer        car_model            variant_name\n",
       "0                            Audi          Audi A4          35 TDI Premium\n",
       "1                            Audi          Audi A6                  35 TDI\n",
       "2                            Audi          Audi Q7  35 TDI Quattro Premium\n",
       "3                             BMW     BMW 5 Series              520d Sedan\n",
       "4                             BMW  BMW 3 Series GT              530i Sport\n",
       "5                       Chevrolet  Chevrolet Cruze                     LTZ\n",
       "6                       Chevrolet   Chevrolet Beat                  1.0 LS"
      ]
     },
     "execution_count": 3,
     "metadata": {},
     "output_type": "execute_result"
    }
   ],
   "source": [
    "df"
   ]
  },
  {
   "cell_type": "code",
   "execution_count": 6,
   "metadata": {},
   "outputs": [
    {
     "data": {
      "text/html": [
       "<div>\n",
       "<style scoped>\n",
       "    .dataframe tbody tr th:only-of-type {\n",
       "        vertical-align: middle;\n",
       "    }\n",
       "\n",
       "    .dataframe tbody tr th {\n",
       "        vertical-align: top;\n",
       "    }\n",
       "\n",
       "    .dataframe thead th {\n",
       "        text-align: right;\n",
       "    }\n",
       "</style>\n",
       "<table border=\"1\" class=\"dataframe\">\n",
       "  <thead>\n",
       "    <tr style=\"text-align: right;\">\n",
       "      <th></th>\n",
       "      <th>original_equipment_manufacturer</th>\n",
       "      <th>car_model</th>\n",
       "      <th>variant_name</th>\n",
       "    </tr>\n",
       "  </thead>\n",
       "  <tbody>\n",
       "    <tr>\n",
       "      <th>0</th>\n",
       "      <td>Audi</td>\n",
       "      <td>[Audi A4, Audi A6, Audi Q7]</td>\n",
       "      <td>[35 TDI Premium, 35 TDI, 35 TDI Quattro Premium]</td>\n",
       "    </tr>\n",
       "    <tr>\n",
       "      <th>1</th>\n",
       "      <td>BMW</td>\n",
       "      <td>[BMW 5 Series, BMW 3 Series GT]</td>\n",
       "      <td>[520d Sedan, 530i Sport]</td>\n",
       "    </tr>\n",
       "    <tr>\n",
       "      <th>2</th>\n",
       "      <td>Chevrolet</td>\n",
       "      <td>[Chevrolet Cruze, Chevrolet Beat]</td>\n",
       "      <td>[LTZ, 1.0 LS]</td>\n",
       "    </tr>\n",
       "  </tbody>\n",
       "</table>\n",
       "</div>"
      ],
      "text/plain": [
       "  original_equipment_manufacturer                          car_model  \\\n",
       "0                            Audi        [Audi A4, Audi A6, Audi Q7]   \n",
       "1                             BMW    [BMW 5 Series, BMW 3 Series GT]   \n",
       "2                       Chevrolet  [Chevrolet Cruze, Chevrolet Beat]   \n",
       "\n",
       "                                       variant_name  \n",
       "0  [35 TDI Premium, 35 TDI, 35 TDI Quattro Premium]  \n",
       "1                          [520d Sedan, 530i Sport]  \n",
       "2                                     [LTZ, 1.0 LS]  "
      ]
     },
     "execution_count": 6,
     "metadata": {},
     "output_type": "execute_result"
    }
   ],
   "source": [
    "\n",
    "# Group by original_equipment_manufacturer\n",
    "grouped_df = df.groupby(\"original_equipment_manufacturer\")[[\"car_model\", \"variant_name\"]].agg(list).reset_index()\n",
    "\n",
    "grouped_df"
   ]
  },
  {
   "cell_type": "code",
   "execution_count": 21,
   "metadata": {},
   "outputs": [
    {
     "data": {
      "text/plain": [
       "['Audi A4', 'Audi A6', 'Audi Q7']"
      ]
     },
     "execution_count": 21,
     "metadata": {},
     "output_type": "execute_result"
    }
   ],
   "source": [
    "grouped_df[grouped_df[\"original_equipment_manufacturer\"]== 'Audi']['car_model'].to_list()[0]"
   ]
  },
  {
   "cell_type": "code",
   "execution_count": 7,
   "metadata": {},
   "outputs": [
    {
     "data": {
      "text/plain": [
       "['Audi', 'BMW', 'Chevrolet']"
      ]
     },
     "execution_count": 7,
     "metadata": {},
     "output_type": "execute_result"
    }
   ],
   "source": [
    "grouped_df['original_equipment_manufacturer'].to_list()"
   ]
  },
  {
   "cell_type": "code",
   "execution_count": null,
   "metadata": {},
   "outputs": [],
   "source": []
  }
 ],
 "metadata": {
  "kernelspec": {
   "display_name": "Python 3",
   "language": "python",
   "name": "python3"
  },
  "language_info": {
   "codemirror_mode": {
    "name": "ipython",
    "version": 3
   },
   "file_extension": ".py",
   "mimetype": "text/x-python",
   "name": "python",
   "nbconvert_exporter": "python",
   "pygments_lexer": "ipython3",
   "version": "3.10.0"
  }
 },
 "nbformat": 4,
 "nbformat_minor": 2
}
